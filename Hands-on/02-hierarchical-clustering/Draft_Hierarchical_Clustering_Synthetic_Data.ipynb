{
  "nbformat": 4,
  "nbformat_minor": 0,
  "metadata": {
    "colab": {
      "provenance": [],
      "authorship_tag": "ABX9TyN2FvY/iwFSQEgu7/kxA82V",
      "include_colab_link": true
    },
    "kernelspec": {
      "name": "python3",
      "display_name": "Python 3"
    },
    "language_info": {
      "name": "python"
    }
  },
  "cells": [
    {
      "cell_type": "markdown",
      "metadata": {
        "id": "view-in-github",
        "colab_type": "text"
      },
      "source": [
        "<a href=\"https://colab.research.google.com/github/elhamod/AML_GANs/blob/master/Hands-on/02-hierarchical-clustering/Draft_Hierarchical_Clustering_Synthetic_Data.ipynb\" target=\"_parent\"><img src=\"https://colab.research.google.com/assets/colab-badge.svg\" alt=\"Open In Colab\"/></a>"
      ]
    },
    {
      "cell_type": "markdown",
      "source": [
        "To appreicate the bells and whistles of hierarchical clustering, it is best to first play with some synthetic data. Let's create some 2D data."
      ],
      "metadata": {
        "id": "6MSaJmpwjVIA"
      }
    },
    {
      "cell_type": "markdown",
      "source": [
        "## Let's create some data"
      ],
      "metadata": {
        "id": "ap9UVBerj_iv"
      }
    },
    {
      "cell_type": "code",
      "source": [
        "import pandas as pd\n",
        "import random\n",
        "import numpy as np"
      ],
      "metadata": {
        "id": "FC-JAgMBkEEd"
      },
      "execution_count": null,
      "outputs": []
    },
    {
      "cell_type": "markdown",
      "source": [
        "Cluster 1"
      ],
      "metadata": {
        "id": "23kQtNUdkCS9"
      }
    },
    {
      "cell_type": "code",
      "source": [],
      "metadata": {
        "id": "qb1FJKvVvF_A"
      },
      "execution_count": null,
      "outputs": []
    },
    {
      "cell_type": "markdown",
      "source": [
        "Let's create another cluster"
      ],
      "metadata": {
        "id": "oo8Yi3itkKT-"
      }
    },
    {
      "cell_type": "code",
      "source": [],
      "metadata": {
        "id": "ZxCbhqEuvGpb"
      },
      "execution_count": null,
      "outputs": []
    },
    {
      "cell_type": "markdown",
      "source": [
        "## Cluster Analysis"
      ],
      "metadata": {
        "id": "kpuYQ_J-kmXZ"
      }
    },
    {
      "cell_type": "code",
      "source": [
        "from scipy.cluster.hierarchy import linkage, fcluster\n",
        "import seaborn as sns"
      ],
      "metadata": {
        "id": "b8VGDBbUkxuB"
      },
      "execution_count": null,
      "outputs": []
    },
    {
      "cell_type": "markdown",
      "source": [
        "Always a good idea to put the parameters of interest in their own cell."
      ],
      "metadata": {
        "id": "-gpudw8pksP3"
      }
    },
    {
      "cell_type": "code",
      "source": [
        "num_clusters = 2\n",
        "method = 'single'"
      ],
      "metadata": {
        "id": "GJH-s9hlkrXP"
      },
      "execution_count": null,
      "outputs": []
    },
    {
      "cell_type": "markdown",
      "source": [
        "First calculate the proximity matrix"
      ],
      "metadata": {
        "id": "_DivRqUvk4ra"
      }
    },
    {
      "cell_type": "code",
      "source": [
        "Z = linkage(df, method) # 'ward' 'complete' 'single' 'average' centroid,\n",
        "\n",
        "Z"
      ],
      "metadata": {
        "id": "3PZfvDF5edQV"
      },
      "execution_count": null,
      "outputs": []
    },
    {
      "cell_type": "markdown",
      "source": [
        "Now, do the clustering based on the proximity matrix."
      ],
      "metadata": {
        "id": "izhSJt5ylA2i"
      }
    },
    {
      "cell_type": "code",
      "source": [
        "df['cluster_labels'] = fcluster(Z, num_clusters, criterion='maxclust')"
      ],
      "metadata": {
        "id": "ojlINR6Ok3Fi"
      },
      "execution_count": null,
      "outputs": []
    },
    {
      "cell_type": "markdown",
      "source": [
        "Plot the clustering"
      ],
      "metadata": {
        "id": "2EI8TOd_lThA"
      }
    },
    {
      "cell_type": "code",
      "source": [
        "sns.scatterplot(x='x', y='y', hue='cluster_labels', data = df)"
      ],
      "metadata": {
        "id": "FGgWIA_alWHi"
      },
      "execution_count": null,
      "outputs": []
    },
    {
      "cell_type": "markdown",
      "source": [
        "Plot the dendrogram"
      ],
      "metadata": {
        "id": "0tVKd7NFlW53"
      }
    },
    {
      "cell_type": "code",
      "source": [
        "from scipy.cluster.hierarchy import dendrogram\n",
        "\n",
        "_ = dendrogram(Z)"
      ],
      "metadata": {
        "id": "OqUBKNU-gazg"
      },
      "execution_count": null,
      "outputs": []
    },
    {
      "cell_type": "markdown",
      "source": [
        "##Things we could try:\n",
        "\n",
        "\n",
        "\n",
        "1.   What if we make the data 3D?\n",
        "2.   What if we make the data non-Gaussian?\n",
        "3.   Trying different densities, sizes, etc.\n",
        "\n"
      ],
      "metadata": {
        "id": "ylRiSy8Hjpbk"
      }
    }
  ]
}