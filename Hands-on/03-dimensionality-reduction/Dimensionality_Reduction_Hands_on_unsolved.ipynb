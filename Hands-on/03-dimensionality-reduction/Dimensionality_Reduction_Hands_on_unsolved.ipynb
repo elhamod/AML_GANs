{
  "nbformat": 4,
  "nbformat_minor": 0,
  "metadata": {
    "colab": {
      "provenance": [],
      "include_colab_link": true
    },
    "kernelspec": {
      "name": "python3",
      "display_name": "Python 3"
    },
    "language_info": {
      "name": "python"
    }
  },
  "cells": [
    {
      "cell_type": "markdown",
      "metadata": {
        "id": "view-in-github",
        "colab_type": "text"
      },
      "source": [
        "<a href=\"https://colab.research.google.com/github/elhamod/AML_GANs/blob/master/Hands-on/03-dimensionality-reduction/Dimensionality_Reduction_Hands_on_unsolved.ipynb\" target=\"_parent\"><img src=\"https://colab.research.google.com/assets/colab-badge.svg\" alt=\"Open In Colab\"/></a>"
      ]
    },
    {
      "cell_type": "markdown",
      "source": [
        "**Course: BA820 - Unsupervised and Unstructured ML**\n",
        "\n",
        "**Notebook created by: Mohannad Elhamod**"
      ],
      "metadata": {
        "id": "Zxe5d_kMYl_1"
      }
    },
    {
      "cell_type": "markdown",
      "source": [
        "#Food Nutrients Analysis"
      ],
      "metadata": {
        "id": "0yxZMzzrYoV7"
      }
    },
    {
      "cell_type": "markdown",
      "source": [
        "In this notebook, we will try to analyze the nutrients found in the [food in Google's cafeterias](https://huggingface.co/datasets/mmathys/food-nutrients).\n",
        "\n",
        "We will see how to apply dimensionality reduction, and how that could help with downstream tasks, such as classification and clustering."
      ],
      "metadata": {
        "id": "PnYLs6M7Y572"
      }
    },
    {
      "cell_type": "markdown",
      "source": [
        "## Load the data"
      ],
      "metadata": {
        "id": "vU6o5pDdAmOd"
      }
    },
    {
      "cell_type": "markdown",
      "source": [
        "Let's load the datasets and see what information it provides. (this may take a minute or two)."
      ],
      "metadata": {
        "id": "u2zJLWxeArMK"
      }
    },
    {
      "cell_type": "code",
      "source": [
        "import pandas as pd\n",
        "\n",
        "\n",
        "\n",
        "\n",
        "url = \"https://drive.google.com/uc?export=download&id=1dwtqk2rlcouemYn7W2HES3aa_322dXFg\"\n",
        "\n",
        "\n",
        "# Read the CSV file into a DataFrame and make some edits.\n",
        "df = pd.read_csv(url, index_col=0)"
      ],
      "metadata": {
        "id": "AvgxWRab0nGr"
      },
      "execution_count": 7,
      "outputs": []
    },
    {
      "cell_type": "code",
      "source": [
        "df.info()"
      ],
      "metadata": {
        "colab": {
          "base_uri": "https://localhost:8080/"
        },
        "id": "bnHIoPkmr2OA",
        "outputId": "efe8d24a-033f-4741-83c6-2d205ebcfb5f"
      },
      "execution_count": 8,
      "outputs": [
        {
          "output_type": "stream",
          "name": "stdout",
          "text": [
            "<class 'pandas.core.frame.DataFrame'>\n",
            "Index: 3260 entries, 0 to 3259\n",
            "Data columns (total 6 columns):\n",
            " #   Column          Non-Null Count  Dtype  \n",
            "---  ------          --------------  -----  \n",
            " 0   ingredients     3260 non-null   object \n",
            " 1   total_calories  3260 non-null   float64\n",
            " 2   total_mass      3260 non-null   float64\n",
            " 3   total_fat       3260 non-null   float64\n",
            " 4   total_carb      3260 non-null   float64\n",
            " 5   total_protein   3260 non-null   float64\n",
            "dtypes: float64(5), object(1)\n",
            "memory usage: 178.3+ KB\n"
          ]
        }
      ]
    },
    {
      "cell_type": "markdown",
      "source": [
        "##EDA"
      ],
      "metadata": {
        "id": "dfqUMDq3aGDP"
      }
    },
    {
      "cell_type": "markdown",
      "source": [
        "We have some information on the ingrediants, and some nutrition values, such as protien, fat, etc.\n",
        "\n",
        "Let's remove the features we don't care about and do some preprocessing."
      ],
      "metadata": {
        "id": "dWS8HIewAy3B"
      }
    },
    {
      "cell_type": "code",
      "source": [
        "# A separate dataframe just with the numeric values.\n",
        "df_numeric = df.drop(\"ingredients\", axis=1)"
      ],
      "metadata": {
        "id": "YRTLh_5q6C1M"
      },
      "execution_count": 9,
      "outputs": []
    },
    {
      "cell_type": "code",
      "source": [
        "df_numeric"
      ],
      "metadata": {
        "colab": {
          "base_uri": "https://localhost:8080/",
          "height": 423
        },
        "id": "JI2pyvKDcK6v",
        "outputId": "c22873f3-737d-47df-b8cf-3d01ac7e3558"
      },
      "execution_count": 10,
      "outputs": [
        {
          "output_type": "execute_result",
          "data": {
            "text/plain": [
              "      total_calories  total_mass  total_fat  total_carb  total_protein\n",
              "0          41.399998        36.0   3.852000    2.268000       0.288000\n",
              "1           6.440000        23.0   0.092000    1.219000       0.506000\n",
              "2          71.299995        62.0   6.634000    3.906000       0.496000\n",
              "3          27.520000        64.0   0.192000    5.760000       2.176000\n",
              "4           4.480000        28.0   0.056000    0.952000       0.196000\n",
              "...              ...         ...        ...         ...            ...\n",
              "3255       55.800003       268.0   0.692000   10.969999       4.532000\n",
              "3256       93.400002       348.0   0.852000   19.770000       7.172000\n",
              "3257      443.199982       560.0   8.483999   19.770000      72.892006\n",
              "3258      743.760010       594.0  42.484001   19.770000      72.891998\n",
              "3259      751.679993       603.0  42.484001   21.300001      72.937004\n",
              "\n",
              "[3260 rows x 5 columns]"
            ],
            "text/html": [
              "\n",
              "  <div id=\"df-1b28910c-1f17-4b40-aaa8-680b8d88cc3a\" class=\"colab-df-container\">\n",
              "    <div>\n",
              "<style scoped>\n",
              "    .dataframe tbody tr th:only-of-type {\n",
              "        vertical-align: middle;\n",
              "    }\n",
              "\n",
              "    .dataframe tbody tr th {\n",
              "        vertical-align: top;\n",
              "    }\n",
              "\n",
              "    .dataframe thead th {\n",
              "        text-align: right;\n",
              "    }\n",
              "</style>\n",
              "<table border=\"1\" class=\"dataframe\">\n",
              "  <thead>\n",
              "    <tr style=\"text-align: right;\">\n",
              "      <th></th>\n",
              "      <th>total_calories</th>\n",
              "      <th>total_mass</th>\n",
              "      <th>total_fat</th>\n",
              "      <th>total_carb</th>\n",
              "      <th>total_protein</th>\n",
              "    </tr>\n",
              "  </thead>\n",
              "  <tbody>\n",
              "    <tr>\n",
              "      <th>0</th>\n",
              "      <td>41.399998</td>\n",
              "      <td>36.0</td>\n",
              "      <td>3.852000</td>\n",
              "      <td>2.268000</td>\n",
              "      <td>0.288000</td>\n",
              "    </tr>\n",
              "    <tr>\n",
              "      <th>1</th>\n",
              "      <td>6.440000</td>\n",
              "      <td>23.0</td>\n",
              "      <td>0.092000</td>\n",
              "      <td>1.219000</td>\n",
              "      <td>0.506000</td>\n",
              "    </tr>\n",
              "    <tr>\n",
              "      <th>2</th>\n",
              "      <td>71.299995</td>\n",
              "      <td>62.0</td>\n",
              "      <td>6.634000</td>\n",
              "      <td>3.906000</td>\n",
              "      <td>0.496000</td>\n",
              "    </tr>\n",
              "    <tr>\n",
              "      <th>3</th>\n",
              "      <td>27.520000</td>\n",
              "      <td>64.0</td>\n",
              "      <td>0.192000</td>\n",
              "      <td>5.760000</td>\n",
              "      <td>2.176000</td>\n",
              "    </tr>\n",
              "    <tr>\n",
              "      <th>4</th>\n",
              "      <td>4.480000</td>\n",
              "      <td>28.0</td>\n",
              "      <td>0.056000</td>\n",
              "      <td>0.952000</td>\n",
              "      <td>0.196000</td>\n",
              "    </tr>\n",
              "    <tr>\n",
              "      <th>...</th>\n",
              "      <td>...</td>\n",
              "      <td>...</td>\n",
              "      <td>...</td>\n",
              "      <td>...</td>\n",
              "      <td>...</td>\n",
              "    </tr>\n",
              "    <tr>\n",
              "      <th>3255</th>\n",
              "      <td>55.800003</td>\n",
              "      <td>268.0</td>\n",
              "      <td>0.692000</td>\n",
              "      <td>10.969999</td>\n",
              "      <td>4.532000</td>\n",
              "    </tr>\n",
              "    <tr>\n",
              "      <th>3256</th>\n",
              "      <td>93.400002</td>\n",
              "      <td>348.0</td>\n",
              "      <td>0.852000</td>\n",
              "      <td>19.770000</td>\n",
              "      <td>7.172000</td>\n",
              "    </tr>\n",
              "    <tr>\n",
              "      <th>3257</th>\n",
              "      <td>443.199982</td>\n",
              "      <td>560.0</td>\n",
              "      <td>8.483999</td>\n",
              "      <td>19.770000</td>\n",
              "      <td>72.892006</td>\n",
              "    </tr>\n",
              "    <tr>\n",
              "      <th>3258</th>\n",
              "      <td>743.760010</td>\n",
              "      <td>594.0</td>\n",
              "      <td>42.484001</td>\n",
              "      <td>19.770000</td>\n",
              "      <td>72.891998</td>\n",
              "    </tr>\n",
              "    <tr>\n",
              "      <th>3259</th>\n",
              "      <td>751.679993</td>\n",
              "      <td>603.0</td>\n",
              "      <td>42.484001</td>\n",
              "      <td>21.300001</td>\n",
              "      <td>72.937004</td>\n",
              "    </tr>\n",
              "  </tbody>\n",
              "</table>\n",
              "<p>3260 rows × 5 columns</p>\n",
              "</div>\n",
              "    <div class=\"colab-df-buttons\">\n",
              "\n",
              "  <div class=\"colab-df-container\">\n",
              "    <button class=\"colab-df-convert\" onclick=\"convertToInteractive('df-1b28910c-1f17-4b40-aaa8-680b8d88cc3a')\"\n",
              "            title=\"Convert this dataframe to an interactive table.\"\n",
              "            style=\"display:none;\">\n",
              "\n",
              "  <svg xmlns=\"http://www.w3.org/2000/svg\" height=\"24px\" viewBox=\"0 -960 960 960\">\n",
              "    <path d=\"M120-120v-720h720v720H120Zm60-500h600v-160H180v160Zm220 220h160v-160H400v160Zm0 220h160v-160H400v160ZM180-400h160v-160H180v160Zm440 0h160v-160H620v160ZM180-180h160v-160H180v160Zm440 0h160v-160H620v160Z\"/>\n",
              "  </svg>\n",
              "    </button>\n",
              "\n",
              "  <style>\n",
              "    .colab-df-container {\n",
              "      display:flex;\n",
              "      gap: 12px;\n",
              "    }\n",
              "\n",
              "    .colab-df-convert {\n",
              "      background-color: #E8F0FE;\n",
              "      border: none;\n",
              "      border-radius: 50%;\n",
              "      cursor: pointer;\n",
              "      display: none;\n",
              "      fill: #1967D2;\n",
              "      height: 32px;\n",
              "      padding: 0 0 0 0;\n",
              "      width: 32px;\n",
              "    }\n",
              "\n",
              "    .colab-df-convert:hover {\n",
              "      background-color: #E2EBFA;\n",
              "      box-shadow: 0px 1px 2px rgba(60, 64, 67, 0.3), 0px 1px 3px 1px rgba(60, 64, 67, 0.15);\n",
              "      fill: #174EA6;\n",
              "    }\n",
              "\n",
              "    .colab-df-buttons div {\n",
              "      margin-bottom: 4px;\n",
              "    }\n",
              "\n",
              "    [theme=dark] .colab-df-convert {\n",
              "      background-color: #3B4455;\n",
              "      fill: #D2E3FC;\n",
              "    }\n",
              "\n",
              "    [theme=dark] .colab-df-convert:hover {\n",
              "      background-color: #434B5C;\n",
              "      box-shadow: 0px 1px 3px 1px rgba(0, 0, 0, 0.15);\n",
              "      filter: drop-shadow(0px 1px 2px rgba(0, 0, 0, 0.3));\n",
              "      fill: #FFFFFF;\n",
              "    }\n",
              "  </style>\n",
              "\n",
              "    <script>\n",
              "      const buttonEl =\n",
              "        document.querySelector('#df-1b28910c-1f17-4b40-aaa8-680b8d88cc3a button.colab-df-convert');\n",
              "      buttonEl.style.display =\n",
              "        google.colab.kernel.accessAllowed ? 'block' : 'none';\n",
              "\n",
              "      async function convertToInteractive(key) {\n",
              "        const element = document.querySelector('#df-1b28910c-1f17-4b40-aaa8-680b8d88cc3a');\n",
              "        const dataTable =\n",
              "          await google.colab.kernel.invokeFunction('convertToInteractive',\n",
              "                                                    [key], {});\n",
              "        if (!dataTable) return;\n",
              "\n",
              "        const docLinkHtml = 'Like what you see? Visit the ' +\n",
              "          '<a target=\"_blank\" href=https://colab.research.google.com/notebooks/data_table.ipynb>data table notebook</a>'\n",
              "          + ' to learn more about interactive tables.';\n",
              "        element.innerHTML = '';\n",
              "        dataTable['output_type'] = 'display_data';\n",
              "        await google.colab.output.renderOutput(dataTable, element);\n",
              "        const docLink = document.createElement('div');\n",
              "        docLink.innerHTML = docLinkHtml;\n",
              "        element.appendChild(docLink);\n",
              "      }\n",
              "    </script>\n",
              "  </div>\n",
              "\n",
              "\n",
              "<div id=\"df-09c8a5a7-148d-43aa-952c-b8ce0758680b\">\n",
              "  <button class=\"colab-df-quickchart\" onclick=\"quickchart('df-09c8a5a7-148d-43aa-952c-b8ce0758680b')\"\n",
              "            title=\"Suggest charts\"\n",
              "            style=\"display:none;\">\n",
              "\n",
              "<svg xmlns=\"http://www.w3.org/2000/svg\" height=\"24px\"viewBox=\"0 0 24 24\"\n",
              "     width=\"24px\">\n",
              "    <g>\n",
              "        <path d=\"M19 3H5c-1.1 0-2 .9-2 2v14c0 1.1.9 2 2 2h14c1.1 0 2-.9 2-2V5c0-1.1-.9-2-2-2zM9 17H7v-7h2v7zm4 0h-2V7h2v10zm4 0h-2v-4h2v4z\"/>\n",
              "    </g>\n",
              "</svg>\n",
              "  </button>\n",
              "\n",
              "<style>\n",
              "  .colab-df-quickchart {\n",
              "      --bg-color: #E8F0FE;\n",
              "      --fill-color: #1967D2;\n",
              "      --hover-bg-color: #E2EBFA;\n",
              "      --hover-fill-color: #174EA6;\n",
              "      --disabled-fill-color: #AAA;\n",
              "      --disabled-bg-color: #DDD;\n",
              "  }\n",
              "\n",
              "  [theme=dark] .colab-df-quickchart {\n",
              "      --bg-color: #3B4455;\n",
              "      --fill-color: #D2E3FC;\n",
              "      --hover-bg-color: #434B5C;\n",
              "      --hover-fill-color: #FFFFFF;\n",
              "      --disabled-bg-color: #3B4455;\n",
              "      --disabled-fill-color: #666;\n",
              "  }\n",
              "\n",
              "  .colab-df-quickchart {\n",
              "    background-color: var(--bg-color);\n",
              "    border: none;\n",
              "    border-radius: 50%;\n",
              "    cursor: pointer;\n",
              "    display: none;\n",
              "    fill: var(--fill-color);\n",
              "    height: 32px;\n",
              "    padding: 0;\n",
              "    width: 32px;\n",
              "  }\n",
              "\n",
              "  .colab-df-quickchart:hover {\n",
              "    background-color: var(--hover-bg-color);\n",
              "    box-shadow: 0 1px 2px rgba(60, 64, 67, 0.3), 0 1px 3px 1px rgba(60, 64, 67, 0.15);\n",
              "    fill: var(--button-hover-fill-color);\n",
              "  }\n",
              "\n",
              "  .colab-df-quickchart-complete:disabled,\n",
              "  .colab-df-quickchart-complete:disabled:hover {\n",
              "    background-color: var(--disabled-bg-color);\n",
              "    fill: var(--disabled-fill-color);\n",
              "    box-shadow: none;\n",
              "  }\n",
              "\n",
              "  .colab-df-spinner {\n",
              "    border: 2px solid var(--fill-color);\n",
              "    border-color: transparent;\n",
              "    border-bottom-color: var(--fill-color);\n",
              "    animation:\n",
              "      spin 1s steps(1) infinite;\n",
              "  }\n",
              "\n",
              "  @keyframes spin {\n",
              "    0% {\n",
              "      border-color: transparent;\n",
              "      border-bottom-color: var(--fill-color);\n",
              "      border-left-color: var(--fill-color);\n",
              "    }\n",
              "    20% {\n",
              "      border-color: transparent;\n",
              "      border-left-color: var(--fill-color);\n",
              "      border-top-color: var(--fill-color);\n",
              "    }\n",
              "    30% {\n",
              "      border-color: transparent;\n",
              "      border-left-color: var(--fill-color);\n",
              "      border-top-color: var(--fill-color);\n",
              "      border-right-color: var(--fill-color);\n",
              "    }\n",
              "    40% {\n",
              "      border-color: transparent;\n",
              "      border-right-color: var(--fill-color);\n",
              "      border-top-color: var(--fill-color);\n",
              "    }\n",
              "    60% {\n",
              "      border-color: transparent;\n",
              "      border-right-color: var(--fill-color);\n",
              "    }\n",
              "    80% {\n",
              "      border-color: transparent;\n",
              "      border-right-color: var(--fill-color);\n",
              "      border-bottom-color: var(--fill-color);\n",
              "    }\n",
              "    90% {\n",
              "      border-color: transparent;\n",
              "      border-bottom-color: var(--fill-color);\n",
              "    }\n",
              "  }\n",
              "</style>\n",
              "\n",
              "  <script>\n",
              "    async function quickchart(key) {\n",
              "      const quickchartButtonEl =\n",
              "        document.querySelector('#' + key + ' button');\n",
              "      quickchartButtonEl.disabled = true;  // To prevent multiple clicks.\n",
              "      quickchartButtonEl.classList.add('colab-df-spinner');\n",
              "      try {\n",
              "        const charts = await google.colab.kernel.invokeFunction(\n",
              "            'suggestCharts', [key], {});\n",
              "      } catch (error) {\n",
              "        console.error('Error during call to suggestCharts:', error);\n",
              "      }\n",
              "      quickchartButtonEl.classList.remove('colab-df-spinner');\n",
              "      quickchartButtonEl.classList.add('colab-df-quickchart-complete');\n",
              "    }\n",
              "    (() => {\n",
              "      let quickchartButtonEl =\n",
              "        document.querySelector('#df-09c8a5a7-148d-43aa-952c-b8ce0758680b button');\n",
              "      quickchartButtonEl.style.display =\n",
              "        google.colab.kernel.accessAllowed ? 'block' : 'none';\n",
              "    })();\n",
              "  </script>\n",
              "</div>\n",
              "\n",
              "  <div id=\"id_01cfb7cb-482e-48b8-ab95-8c11599dfabd\">\n",
              "    <style>\n",
              "      .colab-df-generate {\n",
              "        background-color: #E8F0FE;\n",
              "        border: none;\n",
              "        border-radius: 50%;\n",
              "        cursor: pointer;\n",
              "        display: none;\n",
              "        fill: #1967D2;\n",
              "        height: 32px;\n",
              "        padding: 0 0 0 0;\n",
              "        width: 32px;\n",
              "      }\n",
              "\n",
              "      .colab-df-generate:hover {\n",
              "        background-color: #E2EBFA;\n",
              "        box-shadow: 0px 1px 2px rgba(60, 64, 67, 0.3), 0px 1px 3px 1px rgba(60, 64, 67, 0.15);\n",
              "        fill: #174EA6;\n",
              "      }\n",
              "\n",
              "      [theme=dark] .colab-df-generate {\n",
              "        background-color: #3B4455;\n",
              "        fill: #D2E3FC;\n",
              "      }\n",
              "\n",
              "      [theme=dark] .colab-df-generate:hover {\n",
              "        background-color: #434B5C;\n",
              "        box-shadow: 0px 1px 3px 1px rgba(0, 0, 0, 0.15);\n",
              "        filter: drop-shadow(0px 1px 2px rgba(0, 0, 0, 0.3));\n",
              "        fill: #FFFFFF;\n",
              "      }\n",
              "    </style>\n",
              "    <button class=\"colab-df-generate\" onclick=\"generateWithVariable('df_numeric')\"\n",
              "            title=\"Generate code using this dataframe.\"\n",
              "            style=\"display:none;\">\n",
              "\n",
              "  <svg xmlns=\"http://www.w3.org/2000/svg\" height=\"24px\"viewBox=\"0 0 24 24\"\n",
              "       width=\"24px\">\n",
              "    <path d=\"M7,19H8.4L18.45,9,17,7.55,7,17.6ZM5,21V16.75L18.45,3.32a2,2,0,0,1,2.83,0l1.4,1.43a1.91,1.91,0,0,1,.58,1.4,1.91,1.91,0,0,1-.58,1.4L9.25,21ZM18.45,9,17,7.55Zm-12,3A5.31,5.31,0,0,0,4.9,8.1,5.31,5.31,0,0,0,1,6.5,5.31,5.31,0,0,0,4.9,4.9,5.31,5.31,0,0,0,6.5,1,5.31,5.31,0,0,0,8.1,4.9,5.31,5.31,0,0,0,12,6.5,5.46,5.46,0,0,0,6.5,12Z\"/>\n",
              "  </svg>\n",
              "    </button>\n",
              "    <script>\n",
              "      (() => {\n",
              "      const buttonEl =\n",
              "        document.querySelector('#id_01cfb7cb-482e-48b8-ab95-8c11599dfabd button.colab-df-generate');\n",
              "      buttonEl.style.display =\n",
              "        google.colab.kernel.accessAllowed ? 'block' : 'none';\n",
              "\n",
              "      buttonEl.onclick = () => {\n",
              "        google.colab.notebook.generateWithVariable('df_numeric');\n",
              "      }\n",
              "      })();\n",
              "    </script>\n",
              "  </div>\n",
              "\n",
              "    </div>\n",
              "  </div>\n"
            ],
            "application/vnd.google.colaboratory.intrinsic+json": {
              "type": "dataframe",
              "variable_name": "df_numeric",
              "summary": "{\n  \"name\": \"df_numeric\",\n  \"rows\": 3260,\n  \"fields\": [\n    {\n      \"column\": \"total_calories\",\n      \"properties\": {\n        \"dtype\": \"number\",\n        \"std\": 219.6140553969803,\n        \"min\": 1.15,\n        \"max\": 3943.325195,\n        \"num_unique_values\": 3013,\n        \"samples\": [\n          60.720001,\n          454.274597,\n          24.200001\n        ],\n        \"semantic_type\": \"\",\n        \"description\": \"\"\n      }\n    },\n    {\n      \"column\": \"total_mass\",\n      \"properties\": {\n        \"dtype\": \"number\",\n        \"std\": 161.4876455918936,\n        \"min\": 5.0,\n        \"max\": 3051.0,\n        \"num_unique_values\": 607,\n        \"samples\": [\n          486.0,\n          427.0,\n          78.0\n        ],\n        \"semantic_type\": \"\",\n        \"description\": \"\"\n      }\n    },\n    {\n      \"column\": \"total_fat\",\n      \"properties\": {\n        \"dtype\": \"number\",\n        \"std\": 13.526882240418088,\n        \"min\": 0.0,\n        \"max\": 106.343002,\n        \"num_unique_values\": 2772,\n        \"samples\": [\n          34.7831,\n          5.887001,\n          0.816\n        ],\n        \"semantic_type\": \"\",\n        \"description\": \"\"\n      }\n    },\n    {\n      \"column\": \"total_carb\",\n      \"properties\": {\n        \"dtype\": \"number\",\n        \"std\": 21.60651407237201,\n        \"min\": 0.0,\n        \"max\": 844.568604,\n        \"num_unique_values\": 2919,\n        \"samples\": [\n          5.32,\n          2.964,\n          13.332999\n        ],\n        \"semantic_type\": \"\",\n        \"description\": \"\"\n      }\n    },\n    {\n      \"column\": \"total_protein\",\n      \"properties\": {\n        \"dtype\": \"number\",\n        \"std\": 20.045719787635747,\n        \"min\": 0.072,\n        \"max\": 147.491821,\n        \"num_unique_values\": 2891,\n        \"samples\": [\n          27.957258,\n          16.824301,\n          29.088448\n        ],\n        \"semantic_type\": \"\",\n        \"description\": \"\"\n      }\n    }\n  ]\n}"
            }
          },
          "metadata": {},
          "execution_count": 10
        }
      ]
    },
    {
      "cell_type": "markdown",
      "source": [
        "Let's see how these dimensions interact."
      ],
      "metadata": {
        "id": "-JqELM_1WRpd"
      }
    },
    {
      "cell_type": "code",
      "source": [
        "import seaborn as sns\n",
        "\n",
        "sns.pairplot(df, kind=\"hist\", corner=True, palette=\"Set2\")"
      ],
      "metadata": {
        "colab": {
          "base_uri": "https://localhost:8080/",
          "height": 1000
        },
        "id": "cfXC6Qd6WRvc",
        "outputId": "2b72663b-f13d-4dd0-b54d-faeaf8e3ccb0"
      },
      "execution_count": 11,
      "outputs": [
        {
          "output_type": "stream",
          "name": "stderr",
          "text": [
            "/usr/local/lib/python3.11/dist-packages/seaborn/axisgrid.py:1513: UserWarning: Ignoring `palette` because no `hue` variable has been assigned.\n",
            "  func(x=vector, **plot_kwargs)\n",
            "/usr/local/lib/python3.11/dist-packages/seaborn/axisgrid.py:1513: UserWarning: Ignoring `palette` because no `hue` variable has been assigned.\n",
            "  func(x=vector, **plot_kwargs)\n",
            "/usr/local/lib/python3.11/dist-packages/seaborn/axisgrid.py:1513: UserWarning: Ignoring `palette` because no `hue` variable has been assigned.\n",
            "  func(x=vector, **plot_kwargs)\n",
            "/usr/local/lib/python3.11/dist-packages/seaborn/axisgrid.py:1513: UserWarning: Ignoring `palette` because no `hue` variable has been assigned.\n",
            "  func(x=vector, **plot_kwargs)\n",
            "/usr/local/lib/python3.11/dist-packages/seaborn/axisgrid.py:1513: UserWarning: Ignoring `palette` because no `hue` variable has been assigned.\n",
            "  func(x=vector, **plot_kwargs)\n",
            "/usr/local/lib/python3.11/dist-packages/seaborn/axisgrid.py:1615: UserWarning: Ignoring `palette` because no `hue` variable has been assigned.\n",
            "  func(x=x, y=y, **kwargs)\n",
            "/usr/local/lib/python3.11/dist-packages/seaborn/axisgrid.py:1615: UserWarning: Ignoring `palette` because no `hue` variable has been assigned.\n",
            "  func(x=x, y=y, **kwargs)\n",
            "/usr/local/lib/python3.11/dist-packages/seaborn/axisgrid.py:1615: UserWarning: Ignoring `palette` because no `hue` variable has been assigned.\n",
            "  func(x=x, y=y, **kwargs)\n",
            "/usr/local/lib/python3.11/dist-packages/seaborn/axisgrid.py:1615: UserWarning: Ignoring `palette` because no `hue` variable has been assigned.\n",
            "  func(x=x, y=y, **kwargs)\n",
            "/usr/local/lib/python3.11/dist-packages/seaborn/axisgrid.py:1615: UserWarning: Ignoring `palette` because no `hue` variable has been assigned.\n",
            "  func(x=x, y=y, **kwargs)\n",
            "/usr/local/lib/python3.11/dist-packages/seaborn/axisgrid.py:1615: UserWarning: Ignoring `palette` because no `hue` variable has been assigned.\n",
            "  func(x=x, y=y, **kwargs)\n",
            "/usr/local/lib/python3.11/dist-packages/seaborn/axisgrid.py:1615: UserWarning: Ignoring `palette` because no `hue` variable has been assigned.\n",
            "  func(x=x, y=y, **kwargs)\n",
            "/usr/local/lib/python3.11/dist-packages/seaborn/axisgrid.py:1615: UserWarning: Ignoring `palette` because no `hue` variable has been assigned.\n",
            "  func(x=x, y=y, **kwargs)\n",
            "/usr/local/lib/python3.11/dist-packages/seaborn/axisgrid.py:1615: UserWarning: Ignoring `palette` because no `hue` variable has been assigned.\n",
            "  func(x=x, y=y, **kwargs)\n",
            "/usr/local/lib/python3.11/dist-packages/seaborn/axisgrid.py:1615: UserWarning: Ignoring `palette` because no `hue` variable has been assigned.\n",
            "  func(x=x, y=y, **kwargs)\n"
          ]
        },
        {
          "output_type": "execute_result",
          "data": {
            "text/plain": [
              "<seaborn.axisgrid.PairGrid at 0x7f060700cfd0>"
            ]
          },
          "metadata": {},
          "execution_count": 11
        },
        {
          "output_type": "display_data",
          "data": {
            "text/plain": [
              "<Figure size 1250x1250 with 20 Axes>"
            ],
            "image/png": "[encoded data removed]"
          },
          "metadata": {}
        }
      ]
    },
    {
      "cell_type": "code",
      "source": [
        "corr = df.corr(numeric_only=True)\n",
        "sns.heatmap(corr, annot=True, cmap=\"vlag\" , vmin=-1, vmax=1)"
      ],
      "metadata": {
        "colab": {
          "base_uri": "https://localhost:8080/",
          "height": 531
        },
        "id": "eJM10Tc3Wl-R",
        "outputId": "8176d0ae-7678-471e-bb8a-bd2989508752"
      },
      "execution_count": 12,
      "outputs": [
        {
          "output_type": "execute_result",
          "data": {
            "text/plain": [
              "<Axes: >"
            ]
          },
          "metadata": {},
          "execution_count": 12
        },
        {
          "output_type": "display_data",
          "data": {
            "text/plain": [
              "<Figure size 640x480 with 2 Axes>"
            ],
            "image/png": "[encoded data removed]"
          },
          "metadata": {}
        }
      ]
    },
    {
      "cell_type": "markdown",
      "source": [
        "## Dimentionality Reduction with PCA"
      ],
      "metadata": {
        "id": "NCvrdc-zA6FY"
      }
    },
    {
      "cell_type": "markdown",
      "source": [
        "Let's start with PCA, assuming features may align linearly."
      ],
      "metadata": {
        "id": "I3bXkFXwBIJP"
      }
    },
    {
      "cell_type": "markdown",
      "source": [
        "First we need to normalize the data."
      ],
      "metadata": {
        "id": "WArIjP5WR8G6"
      }
    },
    {
      "cell_type": "code",
      "source": [
        "from sklearn.preprocessing import StandardScaler\n",
        "\n",
        "sc = StandardScaler()\n",
        "normalized_data = ###\n",
        "normalized_data"
      ],
      "metadata": {
        "id": "26iegCO-R99t"
      },
      "execution_count": null,
      "outputs": []
    },
    {
      "cell_type": "markdown",
      "source": [
        "Then, we perform PCA."
      ],
      "metadata": {
        "id": "Rol3zsXXR-EO"
      }
    },
    {
      "cell_type": "code",
      "source": [
        "from sklearn.decomposition import PCA\n",
        "import pandas as pd\n",
        "\n",
        "# Create the model\n",
        "model = ###\n",
        "\n",
        "#fit the data\n",
        "model ###\n",
        "\n",
        "# transform the data\n",
        "transformed_data = ###\n",
        "transformed_data_df =  ### make dataframe\n",
        "\n",
        "# Rename the columns\n",
        "transformed_data_df.columns = [f\"PC{i+1}\" for i in range(df_numeric.shape[1])]\n",
        "\n",
        "transformed_data_df"
      ],
      "metadata": {
        "id": "eBYDev74BLsy"
      },
      "execution_count": null,
      "outputs": []
    },
    {
      "cell_type": "markdown",
      "source": [
        "Let's take a look at how the data varies along each PC."
      ],
      "metadata": {
        "id": "iWM0fDxvVbRi"
      }
    },
    {
      "cell_type": "code",
      "source": [
        "model. ### variance?"
      ],
      "metadata": {
        "id": "oxMzSnV2A2rd"
      },
      "execution_count": null,
      "outputs": []
    },
    {
      "cell_type": "code",
      "source": [
        "transformed_data_df.describe()"
      ],
      "metadata": {
        "id": "YWgJqlt0VUWt"
      },
      "execution_count": null,
      "outputs": []
    },
    {
      "cell_type": "markdown",
      "source": [
        "Let's look at the PCA components."
      ],
      "metadata": {
        "id": "PPFUm2HeTXMs"
      }
    },
    {
      "cell_type": "code",
      "source": [
        "components_df = ###\n",
        "\n",
        "# Rename the columns\n",
        "components_df.columns = df_numeric.columns\n",
        "\n",
        "# Rename the rows\n",
        "components_df.index = [f\"PC{i+1}\" for i in range(components_df.shape[0])]\n",
        "\n",
        "components_df"
      ],
      "metadata": {
        "id": "cpjgzsEdTXSx"
      },
      "execution_count": null,
      "outputs": []
    },
    {
      "cell_type": "markdown",
      "source": [
        "**Question:** What is the magnitude (i.e., length) of each principal component?"
      ],
      "metadata": {
        "id": "8Ijzqq_BD77A"
      }
    },
    {
      "cell_type": "code",
      "source": [
        "sns.heatmap(      , annot=True, cmap=\"vlag\" , vmin=-1, vmax=1)"
      ],
      "metadata": {
        "id": "5PFXSaEqXhLU"
      },
      "execution_count": null,
      "outputs": []
    },
    {
      "cell_type": "markdown",
      "source": [
        "###Feature Importance"
      ],
      "metadata": {
        "id": "H_0XGhLQgLuJ"
      }
    },
    {
      "cell_type": "markdown",
      "source": [
        "Let's look at the explained variance of the model and print the scree plot using [`psynlig`](https://psynlig.readthedocs.io/en/latest/)."
      ],
      "metadata": {
        "id": "fO1PsQBeUbU_"
      }
    },
    {
      "cell_type": "code",
      "source": [
        "!pip install psynlig"
      ],
      "metadata": {
        "id": "LaiPasD8DO9X"
      },
      "execution_count": null,
      "outputs": []
    },
    {
      "cell_type": "code",
      "source": [
        "from matplotlib import pyplot as plt\n",
        "from psynlig import (\n",
        "    pca_explained_variance,\n",
        "    pca_explained_variance_bar,\n",
        ")\n",
        "\n",
        "_, ax = ### explained variance cumulative\n",
        "\n",
        "# Let's add a line at an explained variance of 90%\n",
        "ax.axhline(y=    , color='r', linestyle='--', linewidth=2)\n",
        "\n",
        "plt.show()\n",
        "\n",
        "### explained variance bars. (scree)\n",
        "\n",
        "plt.show()"
      ],
      "metadata": {
        "id": "wIjnzhWS3rLH"
      },
      "execution_count": null,
      "outputs": []
    },
    {
      "cell_type": "markdown",
      "source": [
        "### Computing the Loadings"
      ],
      "metadata": {
        "id": "frb960Klf3-_"
      }
    },
    {
      "cell_type": "markdown",
      "source": [
        "Let's plot the scaled version of these components by scaling each of the components in proportion to their standard deviations (i.e., square root of `model.explained_variance_`). This is called the **loadings**."
      ],
      "metadata": {
        "id": "csuCNWtSSzNn"
      }
    },
    {
      "cell_type": "code",
      "source": [
        "import numpy as np\n",
        "loadings = ###\n",
        "\n",
        "loadings_df = pd.DataFrame(loadings)\n",
        "loadings_df"
      ],
      "metadata": {
        "id": "xk85-0aiRe8G"
      },
      "execution_count": null,
      "outputs": []
    },
    {
      "cell_type": "markdown",
      "source": [
        "**Question:** If I move by 1 step along PC1, how many calories do I gain or lose?"
      ],
      "metadata": {
        "id": "2n61RIoRg1Ko"
      }
    },
    {
      "cell_type": "markdown",
      "source": [
        "Let's overlay the PCA components on top of the original features. We will use [`yellowbricks`](https://www.scikit-yb.org/en/latest/)."
      ],
      "metadata": {
        "id": "AysurciMdawt"
      }
    },
    {
      "cell_type": "code",
      "source": [
        "from yellowbrick.features import PCA as PCA_visualizer\n",
        "\n",
        "visualizer = ### visualize the relationship between features and PCs\n",
        "\n",
        "visualizer. ###\n",
        "visualizer.show()"
      ],
      "metadata": {
        "id": "J24aL6FNddgu"
      },
      "execution_count": null,
      "outputs": []
    },
    {
      "cell_type": "markdown",
      "source": [
        "We could also use [`psynlig`](https://psynlig.readthedocs.io/en/latest/)"
      ],
      "metadata": {
        "id": "wVSVpUGYJ3og"
      }
    },
    {
      "cell_type": "code",
      "source": [
        "from psynlig import pca_2d_scores\n",
        "\n",
        "loading_settings = {\n",
        "    'adjust_text': True,\n",
        "    'add_text': True,\n",
        "}\n",
        "\n",
        "pca_2d_scores(\n",
        "    model,\n",
        "    transformed_data,\n",
        "    xvars=df_numeric.columns,\n",
        "    select_components={(1, 2)},\n",
        "    loading_settings=loading_settings,\n",
        "    s=200,\n",
        "    alpha=.8,\n",
        "    cmap_class='Dark2',\n",
        ")\n",
        "\n",
        "\n",
        "\n",
        "plt.show()"
      ],
      "metadata": {
        "id": "Z4nHTQ7s8aSC"
      },
      "execution_count": null,
      "outputs": []
    },
    {
      "cell_type": "markdown",
      "source": [
        "Using `plotly` may help us with a more detailed investigation."
      ],
      "metadata": {
        "id": "CmhME5a-nlh6"
      }
    },
    {
      "cell_type": "code",
      "source": [
        "import plotly.express as px\n",
        "import plotly.graph_objects as go\n",
        "\n",
        "# add ingredients column for visualization\n",
        "transformed_data_with_ingredients_df = pd.concat([transformed_data_df, df[\"ingredients\"]], axis=1)\n",
        "\n",
        "# Create a 3D scatter plot\n",
        "fig = px.scatter_3d( #scatter_3d scatter\n",
        "    transformed_data_with_ingredients_df,\n",
        "    x=\"PC1\",  # First principal component\n",
        "    y=\"PC2\",  # Second principal component\n",
        "    z=\"PC3\",  # Third principal component\n",
        "    hover_name=\"ingredients\",\n",
        ")\n",
        "\n",
        "fig.update_traces(\n",
        "    marker=dict(\n",
        "        size=2,  # Smaller marker size\n",
        "        opacity=0.3  # Transparency (alpha)\n",
        "    )\n",
        ")\n",
        "\n",
        "\n",
        "# Add an arrow for each original dimensions\n",
        "for i, feature in enumerate(loadings_df.columns):\n",
        "    fig.add_trace(\n",
        "        go.Scatter3d(\n",
        "            x=[0, loadings_df.loc[\"PC1\", feature]],\n",
        "            y=[0, loadings_df.loc[\"PC2\", feature]],\n",
        "            z=[0, loadings_df.loc[\"PC3\", feature]],\n",
        "            mode=\"lines\",\n",
        "            line=dict(color=\"red\", width=3),\n",
        "            showlegend=False,\n",
        "        )\n",
        "    )\n",
        "    fig.add_trace(\n",
        "        go.Scatter3d(\n",
        "            x=[loadings_df.loc[\"PC1\", feature]],\n",
        "            y=[loadings_df.loc[\"PC2\", feature]],\n",
        "            z=[loadings_df.loc[\"PC3\", feature]],\n",
        "            mode=\"text\",\n",
        "            showlegend=False,\n",
        "            text=[f\"<b>{feature}</b>\"],  # Bold text for better readability\n",
        "            textfont=dict(size=12, color=\"red\"),  # Match text color to the line\n",
        "            textposition=\"middle right\",  # Position the text more naturally\n",
        "        )\n",
        "    )\n",
        "\n",
        "# Set axes ranges for easier display (removing outlier from display)\n",
        "fig.update_layout(\n",
        "    scene=dict(\n",
        "        xaxis=dict(range=[-5, 10]),  # X-axis range\n",
        "        yaxis=dict(range=[-5, 5]),   # Y-axis range\n",
        "        zaxis=dict(range=[-2, 4])    # Z-axis range\n",
        "    )\n",
        ")\n",
        "\n",
        "# Show the plot\n",
        "fig.show()"
      ],
      "metadata": {
        "id": "5UHziwRZfbJL"
      },
      "execution_count": null,
      "outputs": []
    },
    {
      "cell_type": "markdown",
      "source": [
        "## Clustering with and without PCA"
      ],
      "metadata": {
        "id": "tOQSo9R_pkZm"
      }
    },
    {
      "cell_type": "markdown",
      "source": [
        "###Outlier Removal"
      ],
      "metadata": {
        "id": "rQlqejxHi4M9"
      }
    },
    {
      "cell_type": "markdown",
      "source": [
        "Let's remove the outliers first. That may help us get a better clustering. One way to do that is to find points with high reconstruction error."
      ],
      "metadata": {
        "id": "mL4Frq5lNW4w"
      }
    },
    {
      "cell_type": "code",
      "source": [
        "from sklearn.metrics import mean_squared_error\n",
        "\n",
        "reconstructed_data = ###\n",
        "\n",
        "# Calculate reconstruction error (MSE)\n",
        "reconstruction_errors = mean_squared_error( , , multioutput='raw_values') ### Remember to transpose."
      ],
      "metadata": {
        "id": "2xqCY_lbNaFn"
      },
      "execution_count": null,
      "outputs": []
    },
    {
      "cell_type": "markdown",
      "source": [
        "Only keep indices that are within 3 standard deviation of error."
      ],
      "metadata": {
        "id": "MCzM_0h9QFJ6"
      }
    },
    {
      "cell_type": "code",
      "source": [
        "# Compute mean and standard deviation of the errors\n",
        "mean_error = ####\n",
        "std_error = ####\n",
        "\n",
        "# Filter indices within 3 standard deviations\n",
        "valid_indices = np.where() ##[0]"
      ],
      "metadata": {
        "id": "auhVNF_TP_sM"
      },
      "execution_count": null,
      "outputs": []
    },
    {
      "cell_type": "code",
      "source": [
        "valid_indices.shape"
      ],
      "metadata": {
        "id": "yo2CiXQNQWHr"
      },
      "execution_count": null,
      "outputs": []
    },
    {
      "cell_type": "markdown",
      "source": [
        "###Clustering in Original Space"
      ],
      "metadata": {
        "id": "j4gayZTfjBex"
      }
    },
    {
      "cell_type": "markdown",
      "source": [
        "Let's compare clustering results with and without PCA\n",
        "\n",
        "First, let's do the original data frame."
      ],
      "metadata": {
        "id": "wRV34zadrRzH"
      }
    },
    {
      "cell_type": "code",
      "source": [
        "from sklearn.cluster import KMeans\n",
        "from yellowbrick.cluster import KElbowVisualizer\n",
        "\n",
        "kmeans = KMeans()\n",
        "visualizer = KElbowVisualizer(\n",
        "    kmeans, k=(2,10), metric='distortion', timings=False #metric='silhouette' metric='distortion'\n",
        ")\n",
        "\n",
        "visualizer.fit(normalized_data[valid_indices, :])        # Fit the data to the visualizer\n",
        "visualizer.show()        # Finalize and render the figure"
      ],
      "metadata": {
        "id": "ds2lEPlqpfLE"
      },
      "execution_count": null,
      "outputs": []
    },
    {
      "cell_type": "code",
      "source": [
        "from yellowbrick.cluster import SilhouetteVisualizer\n",
        "\n",
        "kmeans = ####\n",
        "\n",
        "visualizer = ###\n",
        "\n",
        "visualizer        # Fit the data to the visualizer\n",
        "visualizer.show()        # Finalize and render the figure"
      ],
      "metadata": {
        "id": "4kjQrb9OLb99"
      },
      "execution_count": null,
      "outputs": []
    },
    {
      "cell_type": "markdown",
      "source": [
        "Let's plot the clusters."
      ],
      "metadata": {
        "id": "J_dKe4vuL2Sm"
      }
    },
    {
      "cell_type": "code",
      "source": [
        "df_original_withlabels = df.iloc[valid_indices]\n",
        "df_original_withlabels[\"cluster_labels\"] = kmeans.labels_\n",
        "\n",
        "import plotly.express as px\n",
        "fig = px.scatter_3d(df_original_withlabels, x='total_protein', y='total_carb', z='total_fat', color='cluster_labels', hover_name=\"ingredients\",\n",
        "                    opacity=0.5, color_discrete_sequence=px.colors.qualitative.Set2)\n",
        "\n",
        "fig.update_traces(marker=dict(size=3))  # Adjust the size to make dots smaller\n",
        "fig.show()"
      ],
      "metadata": {
        "id": "pdnNINCjo4Cm"
      },
      "execution_count": null,
      "outputs": []
    },
    {
      "cell_type": "markdown",
      "source": [
        "###Clustering in a PCA-Low Dimensional Space"
      ],
      "metadata": {
        "id": "b66giFspjRMC"
      }
    },
    {
      "cell_type": "markdown",
      "source": [
        "Let's now cluster with 1, 2, or 3 major PC components."
      ],
      "metadata": {
        "id": "BDb3b7bIUWlD"
      }
    },
    {
      "cell_type": "code",
      "source": [
        "low_dimensional_df = transformed_data_df[[\"PC1\"]]"
      ],
      "metadata": {
        "id": "4hnV6pngU_tB"
      },
      "execution_count": null,
      "outputs": []
    },
    {
      "cell_type": "code",
      "source": [
        "kmeans = KMeans()\n",
        "visualizer = KElbowVisualizer(\n",
        "    kmeans, k=(2,10), metric='distortion', timings=False #metric='silhouette' metric='distortion'\n",
        ")\n",
        "\n",
        "visualizer.fit(low_dimensional_df.iloc[valid_indices])        # Fit the data to the visualizer\n",
        "visualizer.show()"
      ],
      "metadata": {
        "id": "eiXqD0ITUago"
      },
      "execution_count": null,
      "outputs": []
    },
    {
      "cell_type": "code",
      "source": [
        "kmeans = KMeans(4)\n",
        "\n",
        "visualizer = SilhouetteVisualizer(kmeans, colors='yellowbrick')\n",
        "\n",
        "visualizer.fit(low_dimensional_df.iloc[valid_indices])        # Fit the data to the visualizer\n",
        "visualizer.show()        # Finalize and render the figure"
      ],
      "metadata": {
        "id": "gn0HtTtiVg7K"
      },
      "execution_count": null,
      "outputs": []
    },
    {
      "cell_type": "markdown",
      "source": [
        "Let's plot these clusters in the original space. What filtering and transformations do we need?"
      ],
      "metadata": {
        "id": "RPxQr-oseIKK"
      }
    },
    {
      "cell_type": "code",
      "source": [
        "df_PCA_withlabels = transformed_data_df.iloc[valid_indices]\n",
        "df_PCA_withlabels = ### inverse PCA\n",
        "df_PCA_withlabels = ### inverse scaling\n",
        "df_PCA_withlabels = pd.DataFrame(df_PCA_withlabels)\n",
        "df_PCA_withlabels.columns = df_numeric.columns\n",
        "df_PCA_withlabels[\"cluster_labels\"] = kmeans.labels_\n",
        "\n",
        "# Add ingredients column to the UMAP DataFrame for hover information\n",
        "df_PCA_withlabels[\"ingredients\"] = df[\"ingredients\"][valid_indices].values\n",
        "\n",
        "import plotly.express as px\n",
        "fig = px.scatter_3d(df_PCA_withlabels, x='total_protein', y='total_carb', z='total_fat', color='cluster_labels',\n",
        "                    hover_name=\"ingredients\",\n",
        "                    opacity=0.5, color_discrete_sequence=px.colors.qualitative.Set2)\n",
        "\n",
        "fig.update_traces(marker=dict(size=3))  # Adjust the size to make dots smaller\n",
        "fig.show()"
      ],
      "metadata": {
        "id": "b0Vj3a5qNCj2"
      },
      "execution_count": null,
      "outputs": []
    },
    {
      "cell_type": "markdown",
      "source": [
        "## UMAP"
      ],
      "metadata": {
        "id": "ey2yUbV_rQMn"
      }
    },
    {
      "cell_type": "markdown",
      "source": [
        "Finally, let's see if UMAP gives better results."
      ],
      "metadata": {
        "id": "UIlNEBS4jp3g"
      }
    },
    {
      "cell_type": "code",
      "source": [
        "!pip install umap-learn"
      ],
      "metadata": {
        "id": "WirkhkUAkCE1"
      },
      "execution_count": null,
      "outputs": []
    },
    {
      "cell_type": "code",
      "source": [
        "import umap\n",
        "import plotly.express as px\n",
        "\n",
        "# Use UMAP to reduce the dimensionality of the data\n",
        "reducer = ### # n_neighbors=15, min_dist=0.1\n",
        "umap_embeddings = reducer. ###\n",
        "\n",
        "# Create a DataFrame for the UMAP embeddings\n",
        "umap_df = pd.DataFrame(, columns= ) ###\n",
        "\n",
        "# Add ingredients column to the UMAP DataFrame for hover information\n",
        "umap_df[\"ingredients\"] = df[\"ingredients\"][valid_indices].values\n",
        "\n",
        "# Create a 3D scatter plot with hover information\n",
        "fig = px.scatter_3d(\n",
        "    umap_df,\n",
        "    x=\"UMAP1\",\n",
        "    y=\"UMAP2\",\n",
        "    z=\"UMAP3\",\n",
        "    hover_name=\"ingredients\",  # Show ingredients on hover\n",
        "    opacity=0.5,\n",
        "    color_discrete_sequence=px.colors.qualitative.Set2\n",
        ")\n",
        "\n",
        "# Customize marker size and opacity\n",
        "fig.update_traces(marker=dict(size=3, opacity=0.7))\n",
        "\n",
        "# Display the plot\n",
        "fig.show()"
      ],
      "metadata": {
        "id": "Ie-D1hTYjswH"
      },
      "execution_count": null,
      "outputs": []
    },
    {
      "cell_type": "markdown",
      "source": [
        "Let's try some clusterning on this embedding space."
      ],
      "metadata": {
        "id": "OPzBFaBU36ww"
      }
    },
    {
      "cell_type": "code",
      "source": [
        "kmeans = KMeans()\n",
        "visualizer = KElbowVisualizer(\n",
        "    kmeans, k=(2,10), metric='distortion', timings=False #metric='silhouette' metric='distortion'\n",
        ")\n",
        "\n",
        "visualizer.fit(umap_embeddings)        # Fit the data to the visualizer\n",
        "visualizer.show()        # Finalize and render the figure"
      ],
      "metadata": {
        "id": "WhW8dbbU3_ap"
      },
      "execution_count": null,
      "outputs": []
    },
    {
      "cell_type": "markdown",
      "source": [
        "**Question:** What do you notice about the silhouette score if you try a large number of clusters? Can you explain your observation and judge whether it is a good idea to use  a lot of clusters?"
      ],
      "metadata": {
        "id": "7VNMrCp2PtrJ"
      }
    },
    {
      "cell_type": "code",
      "source": [
        "kmeans = KMeans(5)\n",
        "kmeans.fit(umap_embeddings)\n",
        "\n",
        "umap_df_withlabels = pd.DataFrame(umap_embeddings)\n",
        "umap_df_withlabels.columns = [\"UMAP1\", \"UMAP2\", \"UMAP3\"]\n",
        "umap_df_withlabels[\"cluster_labels\"] = kmeans.labels_\n",
        "umap_df_withlabels[\"ingredients\"] = df[\"ingredients\"][valid_indices].values\n",
        "\n",
        "import plotly.express as px\n",
        "fig = px.scatter_3d(umap_df_withlabels, x='UMAP1', y='UMAP2', z='UMAP3', color='cluster_labels',\n",
        "                    opacity=0.5,\n",
        "                    hover_name=\"ingredients\",\n",
        "                    color_discrete_sequence=px.colors.qualitative.Set2)\n",
        "\n",
        "fig.update_traces(marker=dict(size=3))  # Adjust the size to make dots smaller\n",
        "fig.show()"
      ],
      "metadata": {
        "id": "OAf8j3hD9jG0"
      },
      "execution_count": null,
      "outputs": []
    },
    {
      "cell_type": "markdown",
      "source": [
        "What does this clustering look like in the original space?"
      ],
      "metadata": {
        "id": "LAxMLz8g29LX"
      }
    },
    {
      "cell_type": "code",
      "source": [
        "umap_to_original_df_withlabels = ### inverse umap\n",
        "umap_to_original_df_withlabels = ### inverse scaling\n",
        "umap_to_original_df_withlabels = pd.DataFrame(umap_to_original_df_withlabels)\n",
        "umap_to_original_df_withlabels.columns = df_numeric.columns\n",
        "umap_to_original_df_withlabels[\"cluster_labels\"] = kmeans.labels_\n",
        "umap_to_original_df_withlabels[\"ingredients\"] = df[\"ingredients\"][valid_indices].values\n",
        "\n",
        "import plotly.express as px\n",
        "fig = px.scatter_3d(umap_to_original_df_withlabels, x='total_protein', y='total_carb', z='total_fat', color='cluster_labels', hover_name=\"ingredients\",\n",
        "                    opacity=0.5, color_discrete_sequence=px.colors.qualitative.Set2)\n",
        "\n",
        "fig.update_traces(marker=dict(size=3))  # Adjust the size to make dots smaller\n",
        "fig.show()"
      ],
      "metadata": {
        "id": "TUR4a9rA2_Iy"
      },
      "execution_count": null,
      "outputs": []
    }
  ]
}